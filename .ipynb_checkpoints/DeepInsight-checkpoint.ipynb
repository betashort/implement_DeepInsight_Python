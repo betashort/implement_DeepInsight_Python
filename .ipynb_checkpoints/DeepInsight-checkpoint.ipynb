{
 "cells": [
  {
   "cell_type": "code",
   "execution_count": null,
   "metadata": {},
   "outputs": [],
   "source": []
  },
  {
   "cell_type": "code",
   "execution_count": null,
   "metadata": {},
   "outputs": [],
   "source": []
  },
  {
   "cell_type": "code",
   "execution_count": null,
   "metadata": {},
   "outputs": [],
   "source": []
  },
  {
   "cell_type": "markdown",
   "metadata": {},
   "source": [
    "# 処理"
   ]
  },
  {
   "cell_type": "code",
   "execution_count": null,
   "metadata": {},
   "outputs": [],
   "source": [
    "def process1(df, actural, target):\n",
    "    df1 = [col for col in df.columns if \"call\" not in col]\n",
    "    df = df[df1]\n",
    "    df = df.T\n",
    "    df2 = df.drop(['Gene Description','Gene Accession Number'],axis=0)\n",
    "    df2.index = pd.to_numeric(df2.index)\n",
    "    df2.sort_index(inplace=True)\n",
    "    if target == 'train':\n",
    "        df2['cat'] = list(actual[:38]['cancer'])\n",
    "    elif target == 'test':\n",
    "        df2['cat'] = list(actual[38:]['cancer'])\n",
    "    dic = {'ALL':0,'AML':1}\n",
    "    df2.replace(dic,inplace=True)\n",
    "    return df, df2"
   ]
  },
  {
   "cell_type": "code",
   "execution_count": null,
   "metadata": {},
   "outputs": [],
   "source": []
  },
  {
   "cell_type": "code",
   "execution_count": null,
   "metadata": {},
   "outputs": [],
   "source": []
  },
  {
   "cell_type": "markdown",
   "metadata": {},
   "source": [
    "# Product MBRB\n",
    "\n",
    "1. input decomp_df  :  ex)train_kpc\n",
    "2. output corner_points"
   ]
  },
  {
   "cell_type": "code",
   "execution_count": 3,
   "metadata": {},
   "outputs": [],
   "source": [
    "def MBRB(df):\n",
    "    hull = ConvexHull(df)\n",
    "    \n",
    "    points = hull.points\n",
    "    hull_points = points[hull.vertices]\n",
    "    \n",
    "    #calculate edge angle arctan2(y/x)\n",
    "    edge_angles = np.zeros( len(hull_points) - 1)\n",
    "    \n",
    "    for i in range( len(edge_angles)):\n",
    "        edge_x = hull_points[i+1, 0] - hull_points[i, 0]\n",
    "        edge_y = hull_points[i+1, 1] - hull_points[i, 1]\n",
    "        edge_angles[i] = abs( math.atan2( edge_y, edge_x) % (math.pi/2) )\n",
    "        \n",
    "    edge_angles = np.unique(edge_angles)\n",
    "    \n",
    "    '''\n",
    "    # search minimum bounding rectangle\n",
    "    # min_bbox = (rot_angle, area, width, height, min_x, max_x, min_y, max_y)\n",
    "    '''\n",
    "    min_bbox = (0, sys.maxsize, 0, 0, 0, 0, 0)\n",
    "\n",
    "    for i in range( len(edge_angles) ):\n",
    "        #create Rotation matrix\n",
    "        R = np.array([[ math.cos(edge_angles[i]), math.cos(edge_angles[i]-(math.pi/2)) ],\n",
    "                      [ math.cos(edge_angles[i] + (math.pi/2)), math.cos(edge_angles[i])]])\n",
    "        \n",
    "        rot_points = np.dot(R, hull_points.T)\n",
    "        \n",
    "        #min max\n",
    "        min_x = np.nanmin(rot_points[0], axis=0)\n",
    "        max_x = np.nanmax(rot_points[0], axis=0)\n",
    "        min_y = np.nanmin(rot_points[1], axis=0)\n",
    "        max_y = np.nanmax(rot_points[1], axis=0)\n",
    "        \n",
    "        #width height\n",
    "        width = max_x - min_x\n",
    "        height = max_y - min_y\n",
    "        \n",
    "        area = width * height\n",
    "        \n",
    "        # store the smallest \n",
    "        if (area < min_bbox[1]):\n",
    "            min_bbox = (edge_angles[i], area, width, height, min_x, max_x, min_y, max_y)\n",
    "    \n",
    "    \n",
    "    angle = min_bbox[0]\n",
    "    \n",
    "    R = np.array([[ math.cos(angle), math.cos(angle - (math.pi/2)) ],\n",
    "                  [ math.cos(angle + (math.pi/2)), math.cos(angle)]])\n",
    "    \n",
    "    proj_points = np.dot(R, hull_points.T)\n",
    "    \n",
    "    min_x = min_bbox[4]\n",
    "    max_x = min_bbox[5]\n",
    "    min_y = min_bbox[6]\n",
    "    max_y = min_bbox[7]\n",
    "    \n",
    "    center_x = (min_x + max_x) / 2\n",
    "    center_y = (min_y + max_y) / 2\n",
    "    center_point = np.dot( [center_x, center_y], R)\n",
    "    \n",
    "    corner_points = np.zeros((4,2))\n",
    "    corner_points[0] = np.dot( [max_x, min_y], R)\n",
    "    corner_points[1] = np.dot( [min_x, min_y], R)\n",
    "    corner_points[2] = np.dot( [min_x, max_y], R)\n",
    "    corner_points[3] = np.dot( [max_x, max_y], R)\n",
    "    \n",
    "    return corner_points"
   ]
  },
  {
   "cell_type": "markdown",
   "metadata": {},
   "source": [
    "# Transform\n",
    "1. input is decomp_df : ex)train_kpca\n",
    "2. output is transformed points and corner_point.  \n",
    "\n",
    "*attend : corner_point + first_corner_point*\n",
    "\n",
    "coner_point's structure  \n",
    "a1 b1  \n",
    "a2 b2  \n",
    "a3 b3  \n",
    "a4 b4  \n",
    "a1 b1"
   ]
  },
  {
   "cell_type": "code",
   "execution_count": 4,
   "metadata": {},
   "outputs": [],
   "source": [
    "def Transform_coor(points, corner_points):\n",
    "    rectan = np.vstack((corner_points, corner_points[0]))\n",
    "    Gr = (corner_points[1,1] - corner_points[2, 1]) / (corner_points[1, 0] - corner_points[2, 0])\n",
    "    \n",
    "    theta = math.atan(Gr)\n",
    "    \n",
    "    R_coor = np.array([[ math.cos(theta), math.sin(theta) ],\n",
    "                       [ -math.sin(theta), math.cos(theta)]])\n",
    "    \n",
    "    result_points = np.dot(R_coor, (points).T).T\n",
    "    result_rectan = np.dot(R_coor, rectan.T).T\n",
    "    \n",
    "    return result_points, result_rectan\n",
    "    "
   ]
  },
  {
   "cell_type": "code",
   "execution_count": null,
   "metadata": {},
   "outputs": [],
   "source": []
  },
  {
   "cell_type": "markdown",
   "metadata": {},
   "source": [
    "# Create Image\n",
    "\n",
    "## input \n",
    "1. df is data. pandas or narray\n",
    "2. result_points is transformed decomp_points\n",
    "3. result_rectan is transformed corner points\n",
    "\n",
    "## output \n",
    "images  \n",
    "\n",
    "images is list.  \n",
    "list is consist of n_sample created image by DeepInsight  "
   ]
  },
  {
   "cell_type": "code",
   "execution_count": 7,
   "metadata": {},
   "outputs": [],
   "source": [
    "def create_image(df, result_points, result_rectan):\n",
    "    \n",
    "    images = []\n",
    "    \n",
    "    rr_p = abs(((result_points - result_rectan[3]) * 100).astype(int))\n",
    "    rr_cp = abs(((result_rectan - result_rectan[3]) * 100).astype(int))\n",
    "    \n",
    "    \n",
    "    for n in range(df.shape[0]):\n",
    "        deepinsight = np.zeros( (rr_p[:, 0].max()+1, rr_p[:, 1].max()+1))\n",
    "        count_table = np.ones( (rr_p[:, 0].max()+1, rr_p[:, 1].max()+1))\n",
    "        \n",
    "        for i, position in enumerate(rr_p):\n",
    "            px = position[0]\n",
    "            py = position[1]\n",
    "            \n",
    "            if deepinsight[px, py] != 0:\n",
    "                count_table[px, py] += 1\n",
    "                \n",
    "            deepinsight[px, py] += df.iloc[n, i]\n",
    "            \n",
    "        deepinsight = np.where(deepinsight == 0, 1, deepinsight)\n",
    "        \n",
    "        \n",
    "        '''\n",
    "        正規化\n",
    "        '''\n",
    "        deepinsight = deepinsight / count_table\n",
    "        max_v = deepinsight.max()\n",
    "        min_v = deepinsight.min()\n",
    "        deepinsight = (deepinsight - min_v) / (max_v - min_v)\n",
    "        \n",
    "        '''\n",
    "        Resize(120×120)\n",
    "        '''\n",
    "        i = Image.fromarray(deepinsight)\n",
    "        deepinsight = np.asarray(i.resize((120, 120)))\n",
    "        \n",
    "        images.append(deepinsight.T)\n",
    "        \n",
    "    return images"
   ]
  },
  {
   "cell_type": "code",
   "execution_count": null,
   "metadata": {},
   "outputs": [],
   "source": []
  },
  {
   "cell_type": "code",
   "execution_count": null,
   "metadata": {},
   "outputs": [],
   "source": []
  }
 ],
 "metadata": {
  "kernelspec": {
   "display_name": "Python 3",
   "language": "python",
   "name": "python3"
  },
  "language_info": {
   "codemirror_mode": {
    "name": "ipython",
    "version": 3
   },
   "file_extension": ".py",
   "mimetype": "text/x-python",
   "name": "python",
   "nbconvert_exporter": "python",
   "pygments_lexer": "ipython3",
   "version": "3.6.9"
  }
 },
 "nbformat": 4,
 "nbformat_minor": 2
}
