{
 "cells": [
  {
   "cell_type": "markdown",
   "metadata": {},
   "source": [
    "# DeepInsight for Gene-Expression"
   ]
  },
  {
   "cell_type": "code",
   "execution_count": 1,
   "metadata": {},
   "outputs": [
    {
     "name": "stderr",
     "output_type": "stream",
     "text": [
      "Using TensorFlow backend.\n"
     ]
    }
   ],
   "source": [
    "import os\n",
    "import sys\n",
    "import math\n",
    "import numpy as np\n",
    "import pandas as pd\n",
    "import matplotlib.pyplot as plt\n",
    "import matplotlib.patches as patches\n",
    "%matplotlib inline\n",
    "\n",
    "from PIL import Image\n",
    "from sklearn.preprocessing import StandardScaler, MinMaxScaler\n",
    "from sklearn.ensemble import RandomForestClassifier\n",
    "from sklearn.metrics import accuracy_score\n",
    "\n",
    "#kerasでCNN構築\n",
    "import time\n",
    "from keras.utils import np_utils\n",
    "from keras.models import Sequential\n",
    "from keras.layers import Conv2D, MaxPooling2D\n",
    "from keras.layers import Activation, Dropout, Flatten, Dense\n",
    "from keras.callbacks import EarlyStopping\n",
    "from keras.optimizers import Adam\n",
    "\n",
    "\n",
    "import warnings\n",
    "warnings.filterwarnings('ignore')"
   ]
  },
  {
   "cell_type": "code",
   "execution_count": 2,
   "metadata": {},
   "outputs": [],
   "source": [
    "path = \"/Volumes/Buffalo-SSD/Kaggle_Datasets/gene-expression/\""
   ]
  },
  {
   "cell_type": "code",
   "execution_count": 3,
   "metadata": {},
   "outputs": [
    {
     "data": {
      "text/plain": [
       "['._actual.csv',\n",
       " 'actual.csv',\n",
       " 'data_set_ALL_AML_independent.csv',\n",
       " '._data_set_ALL_AML_independent.csv',\n",
       " 'data_set_ALL_AML_train.csv',\n",
       " '._data_set_ALL_AML_train.csv']"
      ]
     },
     "execution_count": 3,
     "metadata": {},
     "output_type": "execute_result"
    }
   ],
   "source": [
    "os.listdir(path)"
   ]
  },
  {
   "cell_type": "code",
   "execution_count": 4,
   "metadata": {},
   "outputs": [],
   "source": [
    "train = pd.read_csv(path+'data_set_ALL_AML_train.csv')\n",
    "test = pd.read_csv(path+'data_set_ALL_AML_independent.csv')\n",
    "actual = pd.read_csv(path+'actual.csv')"
   ]
  },
  {
   "cell_type": "markdown",
   "metadata": {},
   "source": [
    "# 処理\n"
   ]
  },
  {
   "cell_type": "code",
   "execution_count": 5,
   "metadata": {},
   "outputs": [],
   "source": [
    "def process1(df, actural, target):\n",
    "    df1 = [col for col in df.columns if \"call\" not in col]\n",
    "    df = df[df1]\n",
    "    df = df.T\n",
    "    df2 = df.drop(['Gene Description','Gene Accession Number'],axis=0)\n",
    "    df2.index = pd.to_numeric(df2.index)\n",
    "    df2.sort_index(inplace=True)\n",
    "    if target == 'train':\n",
    "        df2['cat'] = list(actual[:38]['cancer'])\n",
    "    elif target == 'test':\n",
    "        df2['cat'] = list(actual[38:]['cancer'])\n",
    "    dic = {'ALL':0,'AML':1}\n",
    "    df2.replace(dic,inplace=True)\n",
    "    return df, df2"
   ]
  },
  {
   "cell_type": "code",
   "execution_count": 6,
   "metadata": {},
   "outputs": [
    {
     "name": "stdout",
     "output_type": "stream",
     "text": [
      "CPU times: user 3 µs, sys: 0 ns, total: 3 µs\n",
      "Wall time: 5.96 µs\n"
     ]
    }
   ],
   "source": [
    "%time\n",
    "train_df, train_df2 = process1(train, actual, 'train')\n",
    "test_df, test_df2 = process1(test, actual, 'test')"
   ]
  },
  {
   "cell_type": "markdown",
   "metadata": {},
   "source": [
    "# 1st 次元削減"
   ]
  },
  {
   "cell_type": "code",
   "execution_count": 7,
   "metadata": {},
   "outputs": [],
   "source": [
    "ALL_index = train_df2[train_df2['cat'] == 0].index - 1\n",
    "AML_index = train_df2[train_df2['cat'] == 1].index - 1"
   ]
  },
  {
   "cell_type": "code",
   "execution_count": 8,
   "metadata": {},
   "outputs": [],
   "source": [
    "y = train_df2['cat'].values\n",
    "test_y = test_df2['cat'].values\n",
    "\n",
    "train_df3 = train_df2.drop('cat', axis=1)\n",
    "test_df3 = test_df2.drop('cat', axis=1)\n",
    "\n",
    "sd = StandardScaler()\n",
    "sd.fit(train_df3.T)\n",
    "train_sd = sd.transform(train_df3.T)"
   ]
  },
  {
   "cell_type": "markdown",
   "metadata": {},
   "source": [
    "# DeepInsight"
   ]
  },
  {
   "cell_type": "markdown",
   "metadata": {},
   "source": [
    "# t-SNE"
   ]
  },
  {
   "cell_type": "code",
   "execution_count": 9,
   "metadata": {},
   "outputs": [],
   "source": [
    "import DeepInsight"
   ]
  },
  {
   "cell_type": "code",
   "execution_count": 10,
   "metadata": {},
   "outputs": [],
   "source": [
    "deepinsight = DeepInsight.DeepInsight()"
   ]
  },
  {
   "cell_type": "code",
   "execution_count": 13,
   "metadata": {},
   "outputs": [
    {
     "name": "stdout",
     "output_type": "stream",
     "text": [
      "CPU times: user 2min 28s, sys: 1min 19s, total: 3min 48s\n",
      "Wall time: 3min 18s\n"
     ]
    }
   ],
   "source": [
    "%%time\n",
    "train_images = deepinsight.fit_transform(train_df3, method='tsne')"
   ]
  },
  {
   "cell_type": "code",
   "execution_count": 14,
   "metadata": {},
   "outputs": [
    {
     "name": "stdout",
     "output_type": "stream",
     "text": [
      "CPU times: user 1min 9s, sys: 1min 7s, total: 2min 16s\n",
      "Wall time: 1min 48s\n"
     ]
    }
   ],
   "source": [
    "%%time\n",
    "test_images = deepinsight.transform(test_df3)"
   ]
  },
  {
   "cell_type": "code",
   "execution_count": 52,
   "metadata": {},
   "outputs": [
    {
     "data": {
      "image/png": "[encoded data removed]",
      "text/plain": [
       "<Figure size 432x288 with 1 Axes>"
      ]
     },
     "metadata": {
      "needs_background": "light"
     },
     "output_type": "display_data"
    }
   ],
   "source": [
    "plt.imshow(train_images[11], cmap='gray')\n",
    "plt.show()"
   ]
  },
  {
   "cell_type": "code",
   "execution_count": 49,
   "metadata": {},
   "outputs": [
    {
     "data": {
      "image/png": "[encoded data removed]",
      "text/plain": [
       "<Figure size 432x288 with 1 Axes>"
      ]
     },
     "metadata": {
      "needs_background": "light"
     },
     "output_type": "display_data"
    }
   ],
   "source": [
    "plt.imshow(test_images[1], cmap='gray')\n",
    "plt.show()"
   ]
  },
  {
   "cell_type": "code",
   "execution_count": 53,
   "metadata": {},
   "outputs": [
    {
     "data": {
      "text/plain": [
       "(38, 120, 120)"
      ]
     },
     "execution_count": 53,
     "metadata": {},
     "output_type": "execute_result"
    }
   ],
   "source": [
    "train_images.shape"
   ]
  },
  {
   "cell_type": "code",
   "execution_count": 54,
   "metadata": {},
   "outputs": [
    {
     "data": {
      "text/plain": [
       "(34, 120, 120)"
      ]
     },
     "execution_count": 54,
     "metadata": {},
     "output_type": "execute_result"
    }
   ],
   "source": [
    "test_images.shape"
   ]
  },
  {
   "cell_type": "code",
   "execution_count": 15,
   "metadata": {},
   "outputs": [],
   "source": [
    "train_images_flatten = train_images.reshape(38,-1)\n",
    "test_images_flatten = test_images.reshape(34, -1)"
   ]
  },
  {
   "cell_type": "code",
   "execution_count": 16,
   "metadata": {},
   "outputs": [
    {
     "data": {
      "text/plain": [
       "(30, 14400)"
      ]
     },
     "execution_count": 16,
     "metadata": {},
     "output_type": "execute_result"
    }
   ],
   "source": [
    "train_images_flatten[:30].shape"
   ]
  },
  {
   "cell_type": "markdown",
   "metadata": {},
   "source": [
    "## ランダムフォレスト"
   ]
  },
  {
   "cell_type": "code",
   "execution_count": 17,
   "metadata": {},
   "outputs": [
    {
     "data": {
      "text/plain": [
       "0.5294117647058824"
      ]
     },
     "execution_count": 17,
     "metadata": {},
     "output_type": "execute_result"
    }
   ],
   "source": [
    "from sklearn.ensemble import RandomForestClassifier\n",
    "from sklearn.metrics import accuracy_score\n",
    "\n",
    "forest = RandomForestClassifier(criterion='gini', n_estimators=25, random_state=1, n_jobs=2) \n",
    "forest.fit(train_images_flatten, y)\n",
    "accuracy_score(forest.predict(test_images_flatten), test_y)"
   ]
  },
  {
   "cell_type": "markdown",
   "metadata": {},
   "source": [
    "## CNN"
   ]
  },
  {
   "cell_type": "code",
   "execution_count": 18,
   "metadata": {},
   "outputs": [],
   "source": [
    "X_train = train_images.reshape(38, 120, 120, 1)\n",
    "X_test = test_images.reshape(34, 120 ,120, 1)\n",
    "\n",
    "y_train = np_utils.to_categorical(y)\n",
    "y_test = np_utils.to_categorical(test_y)"
   ]
  },
  {
   "cell_type": "code",
   "execution_count": 19,
   "metadata": {},
   "outputs": [
    {
     "name": "stdout",
     "output_type": "stream",
     "text": [
      "Train on 38 samples, validate on 34 samples\n",
      "Epoch 1/100\n",
      "38/38 [==============================] - 2s 49ms/step - loss: 0.8312 - acc: 0.7105 - val_loss: 0.6932 - val_acc: 0.4118\n",
      "Epoch 2/100\n",
      "38/38 [==============================] - 0s 10ms/step - loss: 0.6930 - acc: 0.5000 - val_loss: 0.6929 - val_acc: 0.5882\n",
      "Epoch 3/100\n",
      "38/38 [==============================] - 0s 10ms/step - loss: 0.6922 - acc: 0.7105 - val_loss: 0.6924 - val_acc: 0.5882\n",
      "Epoch 4/100\n",
      "38/38 [==============================] - 0s 10ms/step - loss: 0.6911 - acc: 0.7105 - val_loss: 0.6919 - val_acc: 0.5882\n",
      "Epoch 5/100\n",
      "38/38 [==============================] - 0s 10ms/step - loss: 0.6897 - acc: 0.7105 - val_loss: 0.6913 - val_acc: 0.5882\n",
      "Epoch 6/100\n",
      "38/38 [==============================] - 0s 10ms/step - loss: 0.6884 - acc: 0.7105 - val_loss: 0.6908 - val_acc: 0.5882\n",
      "Epoch 7/100\n",
      "38/38 [==============================] - 0s 10ms/step - loss: 0.6867 - acc: 0.7105 - val_loss: 0.6903 - val_acc: 0.5882\n",
      "Epoch 8/100\n",
      "38/38 [==============================] - 0s 10ms/step - loss: 0.6858 - acc: 0.7105 - val_loss: 0.6897 - val_acc: 0.5882\n",
      "Epoch 9/100\n",
      "38/38 [==============================] - 0s 11ms/step - loss: 0.6842 - acc: 0.7105 - val_loss: 0.6892 - val_acc: 0.5882\n",
      "Epoch 10/100\n",
      "38/38 [==============================] - 0s 10ms/step - loss: 0.6830 - acc: 0.7105 - val_loss: 0.6887 - val_acc: 0.5882\n",
      "Epoch 11/100\n",
      "38/38 [==============================] - 0s 10ms/step - loss: 0.6815 - acc: 0.7105 - val_loss: 0.6882 - val_acc: 0.5882\n",
      "Epoch 12/100\n",
      "38/38 [==============================] - 0s 10ms/step - loss: 0.6801 - acc: 0.7105 - val_loss: 0.6877 - val_acc: 0.5882\n",
      "Epoch 13/100\n",
      "38/38 [==============================] - 0s 10ms/step - loss: 0.6790 - acc: 0.7105 - val_loss: 0.6872 - val_acc: 0.5882\n",
      "Epoch 14/100\n",
      "38/38 [==============================] - 0s 10ms/step - loss: 0.6776 - acc: 0.7105 - val_loss: 0.6868 - val_acc: 0.5882\n",
      "Epoch 15/100\n",
      "38/38 [==============================] - 0s 10ms/step - loss: 0.6763 - acc: 0.7105 - val_loss: 0.6863 - val_acc: 0.5882\n",
      "Epoch 16/100\n",
      "38/38 [==============================] - 0s 10ms/step - loss: 0.6750 - acc: 0.7105 - val_loss: 0.6859 - val_acc: 0.5882\n",
      "Epoch 17/100\n",
      "38/38 [==============================] - 0s 10ms/step - loss: 0.6740 - acc: 0.7105 - val_loss: 0.6854 - val_acc: 0.5882\n",
      "Epoch 18/100\n",
      "38/38 [==============================] - 0s 10ms/step - loss: 0.6724 - acc: 0.7105 - val_loss: 0.6851 - val_acc: 0.5882\n",
      "Epoch 19/100\n",
      "38/38 [==============================] - 0s 10ms/step - loss: 0.6713 - acc: 0.7105 - val_loss: 0.6847 - val_acc: 0.5882\n",
      "Epoch 20/100\n",
      "38/38 [==============================] - 0s 10ms/step - loss: 0.6702 - acc: 0.7105 - val_loss: 0.6843 - val_acc: 0.5882\n",
      "Epoch 21/100\n",
      "38/38 [==============================] - 0s 10ms/step - loss: 0.6688 - acc: 0.7105 - val_loss: 0.6839 - val_acc: 0.5882\n",
      "Epoch 22/100\n",
      "38/38 [==============================] - 0s 10ms/step - loss: 0.6678 - acc: 0.7105 - val_loss: 0.6835 - val_acc: 0.5882\n",
      "Epoch 23/100\n",
      "38/38 [==============================] - 0s 11ms/step - loss: 0.6665 - acc: 0.7105 - val_loss: 0.6832 - val_acc: 0.5882\n",
      "Epoch 24/100\n",
      "38/38 [==============================] - 0s 11ms/step - loss: 0.6656 - acc: 0.7105 - val_loss: 0.6829 - val_acc: 0.5882\n",
      "Epoch 25/100\n",
      "38/38 [==============================] - 0s 11ms/step - loss: 0.6643 - acc: 0.7105 - val_loss: 0.6825 - val_acc: 0.5882\n",
      "Epoch 26/100\n",
      "38/38 [==============================] - 0s 11ms/step - loss: 0.6632 - acc: 0.7105 - val_loss: 0.6822 - val_acc: 0.5882\n",
      "Epoch 27/100\n",
      "38/38 [==============================] - 0s 11ms/step - loss: 0.6622 - acc: 0.7105 - val_loss: 0.6819 - val_acc: 0.5882\n",
      "Epoch 28/100\n",
      "38/38 [==============================] - 0s 11ms/step - loss: 0.6613 - acc: 0.7105 - val_loss: 0.6816 - val_acc: 0.5882\n",
      "Epoch 29/100\n",
      "38/38 [==============================] - 0s 11ms/step - loss: 0.6602 - acc: 0.7105 - val_loss: 0.6814 - val_acc: 0.5882\n",
      "Epoch 30/100\n",
      "38/38 [==============================] - 0s 10ms/step - loss: 0.6593 - acc: 0.7105 - val_loss: 0.6811 - val_acc: 0.5882\n",
      "Epoch 31/100\n",
      "38/38 [==============================] - 0s 11ms/step - loss: 0.6583 - acc: 0.7105 - val_loss: 0.6808 - val_acc: 0.5882\n",
      "Epoch 32/100\n",
      "38/38 [==============================] - 0s 10ms/step - loss: 0.6570 - acc: 0.7105 - val_loss: 0.6806 - val_acc: 0.5882\n",
      "Epoch 33/100\n",
      "38/38 [==============================] - 0s 11ms/step - loss: 0.6562 - acc: 0.7105 - val_loss: 0.6804 - val_acc: 0.5882\n",
      "Epoch 34/100\n",
      "38/38 [==============================] - 0s 11ms/step - loss: 0.6552 - acc: 0.7105 - val_loss: 0.6802 - val_acc: 0.5882\n",
      "Epoch 35/100\n",
      "38/38 [==============================] - 0s 11ms/step - loss: 0.6545 - acc: 0.7105 - val_loss: 0.6800 - val_acc: 0.5882\n",
      "Epoch 36/100\n",
      "38/38 [==============================] - 0s 11ms/step - loss: 0.6534 - acc: 0.7105 - val_loss: 0.6798 - val_acc: 0.5882\n",
      "Epoch 37/100\n",
      "38/38 [==============================] - 0s 11ms/step - loss: 0.6526 - acc: 0.7105 - val_loss: 0.6796 - val_acc: 0.5882\n",
      "Epoch 38/100\n",
      "38/38 [==============================] - 0s 11ms/step - loss: 0.6516 - acc: 0.7105 - val_loss: 0.6794 - val_acc: 0.5882\n",
      "Epoch 39/100\n",
      "38/38 [==============================] - 0s 11ms/step - loss: 0.6508 - acc: 0.7105 - val_loss: 0.6792 - val_acc: 0.5882\n",
      "Epoch 40/100\n",
      "38/38 [==============================] - 0s 10ms/step - loss: 0.6500 - acc: 0.7105 - val_loss: 0.6791 - val_acc: 0.5882\n",
      "Epoch 41/100\n",
      "38/38 [==============================] - 0s 10ms/step - loss: 0.6491 - acc: 0.7105 - val_loss: 0.6789 - val_acc: 0.5882\n",
      "Epoch 42/100\n",
      "38/38 [==============================] - 0s 11ms/step - loss: 0.6482 - acc: 0.7105 - val_loss: 0.6788 - val_acc: 0.5882\n",
      "Epoch 43/100\n",
      "38/38 [==============================] - 0s 11ms/step - loss: 0.6474 - acc: 0.7105 - val_loss: 0.6787 - val_acc: 0.5882\n",
      "Epoch 44/100\n",
      "38/38 [==============================] - 0s 13ms/step - loss: 0.6469 - acc: 0.7105 - val_loss: 0.6785 - val_acc: 0.5882\n",
      "Epoch 45/100\n",
      "38/38 [==============================] - 0s 11ms/step - loss: 0.6458 - acc: 0.7105 - val_loss: 0.6784 - val_acc: 0.5882\n",
      "Epoch 46/100\n",
      "38/38 [==============================] - 0s 11ms/step - loss: 0.6452 - acc: 0.7105 - val_loss: 0.6783 - val_acc: 0.5882\n",
      "Epoch 47/100\n",
      "38/38 [==============================] - 0s 11ms/step - loss: 0.6442 - acc: 0.7105 - val_loss: 0.6782 - val_acc: 0.5882\n",
      "Epoch 48/100\n",
      "38/38 [==============================] - 0s 11ms/step - loss: 0.6435 - acc: 0.7105 - val_loss: 0.6781 - val_acc: 0.5882\n",
      "Epoch 49/100\n",
      "38/38 [==============================] - 0s 11ms/step - loss: 0.6430 - acc: 0.7105 - val_loss: 0.6780 - val_acc: 0.5882\n",
      "Epoch 50/100\n",
      "38/38 [==============================] - 0s 11ms/step - loss: 0.6423 - acc: 0.7105 - val_loss: 0.6779 - val_acc: 0.5882\n",
      "Epoch 51/100\n",
      "38/38 [==============================] - 0s 11ms/step - loss: 0.6414 - acc: 0.7105 - val_loss: 0.6779 - val_acc: 0.5882\n",
      "Epoch 52/100\n",
      "38/38 [==============================] - 0s 11ms/step - loss: 0.6408 - acc: 0.7105 - val_loss: 0.6778 - val_acc: 0.5882\n",
      "Epoch 53/100\n",
      "38/38 [==============================] - 0s 11ms/step - loss: 0.6399 - acc: 0.7105 - val_loss: 0.6777 - val_acc: 0.5882\n",
      "Epoch 54/100\n",
      "38/38 [==============================] - 0s 11ms/step - loss: 0.6393 - acc: 0.7105 - val_loss: 0.6777 - val_acc: 0.5882\n",
      "Epoch 55/100\n",
      "38/38 [==============================] - 0s 11ms/step - loss: 0.6387 - acc: 0.7105 - val_loss: 0.6776 - val_acc: 0.5882\n",
      "Epoch 56/100\n",
      "38/38 [==============================] - 0s 11ms/step - loss: 0.6381 - acc: 0.7105 - val_loss: 0.6776 - val_acc: 0.5882\n",
      "Epoch 57/100\n",
      "38/38 [==============================] - 0s 11ms/step - loss: 0.6374 - acc: 0.7105 - val_loss: 0.6776 - val_acc: 0.5882\n",
      "Epoch 58/100\n",
      "38/38 [==============================] - 0s 11ms/step - loss: 0.6368 - acc: 0.7105 - val_loss: 0.6775 - val_acc: 0.5882\n",
      "Epoch 59/100\n",
      "38/38 [==============================] - 0s 11ms/step - loss: 0.6362 - acc: 0.7105 - val_loss: 0.6775 - val_acc: 0.5882\n",
      "Epoch 60/100\n",
      "38/38 [==============================] - 0s 11ms/step - loss: 0.6355 - acc: 0.7105 - val_loss: 0.6775 - val_acc: 0.5882\n",
      "Epoch 61/100\n",
      "38/38 [==============================] - 0s 11ms/step - loss: 0.6349 - acc: 0.7105 - val_loss: 0.6775 - val_acc: 0.5882\n",
      "Epoch 62/100\n"
     ]
    },
    {
     "name": "stdout",
     "output_type": "stream",
     "text": [
      "38/38 [==============================] - 0s 11ms/step - loss: 0.6344 - acc: 0.7105 - val_loss: 0.6775 - val_acc: 0.5882\n",
      "Epoch 63/100\n",
      "38/38 [==============================] - 0s 10ms/step - loss: 0.6338 - acc: 0.7105 - val_loss: 0.6775 - val_acc: 0.5882\n",
      "Epoch 64/100\n",
      "38/38 [==============================] - 0s 10ms/step - loss: 0.6332 - acc: 0.7105 - val_loss: 0.6775 - val_acc: 0.5882\n",
      "Epoch 00064: early stopping\n",
      "Test Loss:0.678\n",
      "Test accuracy:0.588\n",
      "time:28.004sec\n"
     ]
    }
   ],
   "source": [
    "'''\n",
    "CNNの構築\n",
    "'''\n",
    " \n",
    "model = Sequential()\n",
    " \n",
    "model.add(Conv2D(filters=10, kernel_size=(3,3), padding='same', input_shape=(120, 120, 1), activation='relu'))\n",
    "model.add(MaxPooling2D())\n",
    "model.add(Conv2D(filters=10, kernel_size=(3,3), padding='same', activation='relu'))\n",
    "model.add(Flatten())\n",
    "model.add(Dense(10, activation='relu'))\n",
    "model.add(Dense(2, activation='softmax'))\n",
    " \n",
    "model.compile(loss='categorical_crossentropy', optimizer=Adam(), metrics=['accuracy'])\n",
    " \n",
    "'''\n",
    "学習\n",
    "'''\n",
    "#計測開始\n",
    "startTime = time.time()\n",
    "\n",
    "# モデルの学習\n",
    "early_stopping = EarlyStopping(patience=2, verbose=1)\n",
    "\n",
    "history = model.fit(X_train, y_train, epochs=100, batch_size=10, verbose=1,callbacks=[early_stopping], validation_data=(X_test, y_test))\n",
    " \n",
    "score = model.evaluate(X_test, y_test, verbose=0)\n",
    " \n",
    "print('Test Loss:{0:.3f}'.format(score[0]))\n",
    "print('Test accuracy:{0:.3}'.format(score[1]))\n",
    "#処理時間\n",
    "print(\"time:{0:.3f}sec\".format(time.time() - startTime))"
   ]
  },
  {
   "cell_type": "code",
   "execution_count": 35,
   "metadata": {},
   "outputs": [
    {
     "data": {
      "image/png": "[encoded data removed]",
      "text/plain": [
       "<Figure size 432x288 with 1 Axes>"
      ]
     },
     "metadata": {
      "needs_background": "light"
     },
     "output_type": "display_data"
    }
   ],
   "source": [
    "plt.scatter(deepinsight.result_points[:,0], deepinsight.result_points[:,1])\n",
    "plt.show()"
   ]
  },
  {
   "cell_type": "code",
   "execution_count": 45,
   "metadata": {},
   "outputs": [
    {
     "data": {
      "image/png": "[encoded data removed]",
      "text/plain": [
       "<Figure size 432x288 with 1 Axes>"
      ]
     },
     "metadata": {
      "needs_background": "light"
     },
     "output_type": "display_data"
    }
   ],
   "source": [
    "plt.imshow(train_images[0], cmap='gray')\n",
    "plt.show()"
   ]
  },
  {
   "cell_type": "markdown",
   "metadata": {},
   "source": [
    "# Kernel PCA"
   ]
  },
  {
   "cell_type": "code",
   "execution_count": 30,
   "metadata": {},
   "outputs": [
    {
     "data": {
      "text/plain": [
       "0.7058823529411765"
      ]
     },
     "execution_count": 30,
     "metadata": {},
     "output_type": "execute_result"
    }
   ],
   "source": [
    "deepinsight2 = DeepInsight.DeepInsight()\n",
    "kpca_train_images = deepinsight2.fit_transform(train_df3)\n",
    "kpca_test_images = deepinsight2.transform(test_df3)\n",
    "\n",
    "kpca_train_images_flatten = kpca_train_images.reshape(38,-1)\n",
    "kpca_test_images_flatten = kpca_test_images.reshape(34, -1)\n",
    "\n",
    "forest = RandomForestClassifier(criterion='gini', n_estimators=25, random_state=1, n_jobs=2) \n",
    "forest.fit(kpca_train_images_flatten, y)\n",
    "accuracy_score(forest.predict(kpca_test_images_flatten), test_y)"
   ]
  },
  {
   "cell_type": "code",
   "execution_count": 31,
   "metadata": {},
   "outputs": [],
   "source": [
    "X_train = kpca_train_images.reshape(38, 120, 120, 1)\n",
    "X_test = kpca_test_images.reshape(34, 120 ,120, 1)\n",
    "\n",
    "y_train = np_utils.to_categorical(y)\n",
    "y_test = np_utils.to_categorical(test_y)"
   ]
  },
  {
   "cell_type": "code",
   "execution_count": 32,
   "metadata": {},
   "outputs": [
    {
     "name": "stdout",
     "output_type": "stream",
     "text": [
      "Train on 38 samples, validate on 34 samples\n",
      "Epoch 1/100\n",
      " - 2s - loss: 0.6001 - acc: 0.7368 - val_loss: 0.7708 - val_acc: 0.5882\n",
      "Epoch 2/100\n",
      " - 0s - loss: 0.6618 - acc: 0.7105 - val_loss: 0.7143 - val_acc: 0.5882\n",
      "Epoch 3/100\n",
      " - 0s - loss: 0.6397 - acc: 0.7105 - val_loss: 0.6587 - val_acc: 0.5882\n",
      "Epoch 4/100\n",
      " - 0s - loss: 0.5880 - acc: 0.7105 - val_loss: 0.6597 - val_acc: 0.5882\n",
      "Epoch 5/100\n",
      " - 0s - loss: 0.5526 - acc: 0.7105 - val_loss: 0.6557 - val_acc: 0.5882\n",
      "Epoch 6/100\n",
      " - 0s - loss: 0.5373 - acc: 0.7105 - val_loss: 0.6533 - val_acc: 0.5882\n",
      "Epoch 7/100\n",
      " - 0s - loss: 0.5282 - acc: 0.7105 - val_loss: 0.6207 - val_acc: 0.5882\n",
      "Epoch 8/100\n",
      " - 0s - loss: 0.4893 - acc: 0.7105 - val_loss: 0.5969 - val_acc: 0.5882\n",
      "Epoch 9/100\n",
      " - 0s - loss: 0.4633 - acc: 0.7105 - val_loss: 0.5679 - val_acc: 0.5882\n",
      "Epoch 10/100\n",
      " - 0s - loss: 0.4339 - acc: 0.7105 - val_loss: 0.5498 - val_acc: 0.5882\n",
      "Epoch 11/100\n",
      " - 0s - loss: 0.4313 - acc: 0.7105 - val_loss: 0.5169 - val_acc: 0.5882\n",
      "Epoch 12/100\n",
      " - 0s - loss: 0.4194 - acc: 0.7105 - val_loss: 0.5136 - val_acc: 0.5882\n",
      "Epoch 13/100\n",
      " - 0s - loss: 0.3792 - acc: 0.7105 - val_loss: 0.5376 - val_acc: 0.5882\n",
      "Epoch 14/100\n",
      " - 0s - loss: 0.3727 - acc: 0.7105 - val_loss: 0.4846 - val_acc: 0.5882\n",
      "Epoch 15/100\n",
      " - 0s - loss: 0.3421 - acc: 0.8421 - val_loss: 0.4861 - val_acc: 0.8824\n",
      "Epoch 16/100\n",
      " - 0s - loss: 0.3462 - acc: 0.8684 - val_loss: 0.4601 - val_acc: 0.8824\n",
      "Epoch 17/100\n",
      " - 0s - loss: 0.3156 - acc: 0.8421 - val_loss: 0.4470 - val_acc: 0.7647\n",
      "Epoch 18/100\n",
      " - 0s - loss: 0.3117 - acc: 0.8421 - val_loss: 0.4270 - val_acc: 0.9118\n",
      "Epoch 19/100\n",
      " - 0s - loss: 0.2855 - acc: 0.8684 - val_loss: 0.4122 - val_acc: 0.7941\n",
      "Epoch 20/100\n",
      " - 0s - loss: 0.2732 - acc: 0.9211 - val_loss: 0.3977 - val_acc: 0.8235\n",
      "Epoch 21/100\n",
      " - 0s - loss: 0.2661 - acc: 0.8684 - val_loss: 0.3911 - val_acc: 0.8824\n",
      "Epoch 22/100\n",
      " - 0s - loss: 0.2466 - acc: 0.9474 - val_loss: 0.3960 - val_acc: 0.9118\n",
      "Epoch 23/100\n",
      " - 0s - loss: 0.2386 - acc: 0.9474 - val_loss: 0.3959 - val_acc: 0.9118\n",
      "Epoch 00023: early stopping\n",
      "Test Loss:0.396\n",
      "Test accuracy:0.912\n",
      "time:11.181sec\n"
     ]
    }
   ],
   "source": [
    "'''\n",
    "CNNの構築\n",
    "'''\n",
    " \n",
    "model = Sequential()\n",
    " \n",
    "model.add(Conv2D(filters=10, kernel_size=(3,3), padding='same', input_shape=(120, 120, 1), activation='relu'))\n",
    "model.add(MaxPooling2D())\n",
    "model.add(Conv2D(filters=10, kernel_size=(3,3), padding='same', activation='relu'))\n",
    "model.add(Flatten())\n",
    "model.add(Dense(10, activation='relu'))\n",
    "model.add(Dense(2, activation='softmax'))\n",
    " \n",
    "model.compile(loss='categorical_crossentropy', optimizer=Adam(), metrics=['accuracy'])\n",
    " \n",
    "'''\n",
    "学習\n",
    "'''\n",
    "#計測開始\n",
    "startTime = time.time()\n",
    "\n",
    "early_stopping = EarlyStopping(patience=2, verbose=1)\n",
    "\n",
    "history = model.fit(X_train, y_train, epochs=100, batch_size=10, verbose=2, callbacks=[early_stopping], validation_data=(X_test, y_test))\n",
    " \n",
    "score = model.evaluate(X_test, y_test, verbose=0)\n",
    " \n",
    "print('Test Loss:{0:.3f}'.format(score[0]))\n",
    "print('Test accuracy:{0:.3}'.format(score[1]))\n",
    "#処理時間\n",
    "print(\"time:{0:.3f}sec\".format(time.time() - startTime))"
   ]
  },
  {
   "cell_type": "code",
   "execution_count": 34,
   "metadata": {},
   "outputs": [
    {
     "data": {
      "image/png": "[encoded data removed]",
      "text/plain": [
       "<Figure size 432x288 with 1 Axes>"
      ]
     },
     "metadata": {
      "needs_background": "light"
     },
     "output_type": "display_data"
    }
   ],
   "source": [
    "plt.scatter(deepinsight2.result_points[:,0], deepinsight2.result_points[:,1])\n",
    "plt.show()"
   ]
  },
  {
   "cell_type": "code",
   "execution_count": 46,
   "metadata": {},
   "outputs": [
    {
     "data": {
      "image/png": "[encoded data removed]",
      "text/plain": [
       "<Figure size 432x288 with 1 Axes>"
      ]
     },
     "metadata": {
      "needs_background": "light"
     },
     "output_type": "display_data"
    }
   ],
   "source": [
    "plt.imshow(kpca_train_images[0], cmap='gray')\n",
    "plt.show()"
   ]
  },
  {
   "cell_type": "code",
   "execution_count": null,
   "metadata": {},
   "outputs": [],
   "source": []
  }
 ],
 "metadata": {
  "kernelspec": {
   "display_name": "Python 3",
   "language": "python",
   "name": "python3"
  },
  "language_info": {
   "codemirror_mode": {
    "name": "ipython",
    "version": 3
   },
   "file_extension": ".py",
   "mimetype": "text/x-python",
   "name": "python",
   "nbconvert_exporter": "python",
   "pygments_lexer": "ipython3",
   "version": "3.6.9"
  }
 },
 "nbformat": 4,
 "nbformat_minor": 2
}
