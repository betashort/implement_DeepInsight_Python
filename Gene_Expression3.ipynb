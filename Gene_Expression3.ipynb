{
 "cells": [
  {
   "cell_type": "markdown",
   "metadata": {},
   "source": [
    "# DeepInsight for Gene-Expression"
   ]
  },
  {
   "cell_type": "code",
   "execution_count": 1,
   "metadata": {},
   "outputs": [],
   "source": [
    "import os\n",
    "import sys\n",
    "import math\n",
    "import numpy as np\n",
    "import pandas as pd\n",
    "import matplotlib.pyplot as plt\n",
    "import matplotlib.patches as patches\n",
    "%matplotlib inline\n",
    "\n",
    "from PIL import Image\n",
    "from sklearn.preprocessing import StandardScaler, MinMaxScaler\n",
    "\n",
    "\n",
    "import warnings\n",
    "warnings.filterwarnings('ignore')"
   ]
  },
  {
   "cell_type": "code",
   "execution_count": 2,
   "metadata": {},
   "outputs": [],
   "source": [
    "path = \"/Volumes/Buffalo-SSD/Kaggle_Datasets/gene-expression/\""
   ]
  },
  {
   "cell_type": "code",
   "execution_count": 3,
   "metadata": {},
   "outputs": [
    {
     "data": {
      "text/plain": [
       "['._actual.csv',\n",
       " 'actual.csv',\n",
       " 'data_set_ALL_AML_independent.csv',\n",
       " '._data_set_ALL_AML_independent.csv',\n",
       " 'data_set_ALL_AML_train.csv',\n",
       " '._data_set_ALL_AML_train.csv']"
      ]
     },
     "execution_count": 3,
     "metadata": {},
     "output_type": "execute_result"
    }
   ],
   "source": [
    "os.listdir(path)"
   ]
  },
  {
   "cell_type": "code",
   "execution_count": 4,
   "metadata": {},
   "outputs": [],
   "source": [
    "train = pd.read_csv(path+'data_set_ALL_AML_train.csv')\n",
    "test = pd.read_csv(path+'data_set_ALL_AML_independent.csv')\n",
    "actual = pd.read_csv(path+'actual.csv')"
   ]
  },
  {
   "cell_type": "markdown",
   "metadata": {},
   "source": [
    "# 処理\n"
   ]
  },
  {
   "cell_type": "code",
   "execution_count": 5,
   "metadata": {},
   "outputs": [],
   "source": [
    "def process1(df, actural, target):\n",
    "    df1 = [col for col in df.columns if \"call\" not in col]\n",
    "    df = df[df1]\n",
    "    df = df.T\n",
    "    df2 = df.drop(['Gene Description','Gene Accession Number'],axis=0)\n",
    "    df2.index = pd.to_numeric(df2.index)\n",
    "    df2.sort_index(inplace=True)\n",
    "    if target == 'train':\n",
    "        df2['cat'] = list(actual[:38]['cancer'])\n",
    "    elif target == 'test':\n",
    "        df2['cat'] = list(actual[38:]['cancer'])\n",
    "    dic = {'ALL':0,'AML':1}\n",
    "    df2.replace(dic,inplace=True)\n",
    "    return df, df2"
   ]
  },
  {
   "cell_type": "code",
   "execution_count": 6,
   "metadata": {},
   "outputs": [
    {
     "name": "stdout",
     "output_type": "stream",
     "text": [
      "CPU times: user 4 µs, sys: 0 ns, total: 4 µs\n",
      "Wall time: 9.06 µs\n"
     ]
    }
   ],
   "source": [
    "%time\n",
    "train_df, train_df2 = process1(train, actual, 'train')\n",
    "test_df, test_df2 = process1(test, actual, 'test')"
   ]
  },
  {
   "cell_type": "markdown",
   "metadata": {},
   "source": [
    "# 1st 次元削減"
   ]
  },
  {
   "cell_type": "code",
   "execution_count": 7,
   "metadata": {},
   "outputs": [],
   "source": [
    "ALL_index = train_df2[train_df2['cat'] == 0].index - 1\n",
    "AML_index = train_df2[train_df2['cat'] == 1].index - 1"
   ]
  },
  {
   "cell_type": "code",
   "execution_count": 8,
   "metadata": {},
   "outputs": [],
   "source": [
    "y = train_df2['cat'].values\n",
    "test_y = test_df2['cat'].values\n",
    "\n",
    "train_df3 = train_df2.drop('cat', axis=1)\n",
    "test_df3 = test_df2.drop('cat', axis=1)\n",
    "\n",
    "sd = StandardScaler()\n",
    "sd.fit(train_df3.T)\n",
    "train_sd = sd.transform(train_df3.T)"
   ]
  },
  {
   "cell_type": "markdown",
   "metadata": {},
   "source": [
    "# DeepInsight"
   ]
  },
  {
   "cell_type": "markdown",
   "metadata": {},
   "source": [
    "# t-SNE"
   ]
  },
  {
   "cell_type": "code",
   "execution_count": 43,
   "metadata": {},
   "outputs": [],
   "source": [
    "import DeepInsight"
   ]
  },
  {
   "cell_type": "code",
   "execution_count": 44,
   "metadata": {},
   "outputs": [],
   "source": [
    "deepinsight = DeepInsight.DeepInsight()"
   ]
  },
  {
   "cell_type": "code",
   "execution_count": 45,
   "metadata": {},
   "outputs": [
    {
     "name": "stdout",
     "output_type": "stream",
     "text": [
      "CPU times: user 2min 17s, sys: 1min, total: 3min 17s\n",
      "Wall time: 2min 41s\n"
     ]
    }
   ],
   "source": [
    "%%time\n",
    "train_images = deepinsight.fit(train_df3, method='tsne')"
   ]
  },
  {
   "cell_type": "code",
   "execution_count": 46,
   "metadata": {},
   "outputs": [
    {
     "name": "stdout",
     "output_type": "stream",
     "text": [
      "CPU times: user 1min 9s, sys: 52.2 s, total: 2min 1s\n",
      "Wall time: 1min 31s\n"
     ]
    }
   ],
   "source": [
    "%%time\n",
    "test_images = deepinsight.predict(test_df3)"
   ]
  },
  {
   "cell_type": "code",
   "execution_count": 52,
   "metadata": {},
   "outputs": [
    {
     "data": {
      "image/png": "[encoded data removed]",
      "text/plain": [
       "<Figure size 432x288 with 1 Axes>"
      ]
     },
     "metadata": {
      "needs_background": "light"
     },
     "output_type": "display_data"
    }
   ],
   "source": [
    "plt.imshow(train_images[11], cmap='gray')\n",
    "plt.show()"
   ]
  },
  {
   "cell_type": "code",
   "execution_count": 49,
   "metadata": {},
   "outputs": [
    {
     "data": {
      "image/png": "[encoded data removed]",
      "text/plain": [
       "<Figure size 432x288 with 1 Axes>"
      ]
     },
     "metadata": {
      "needs_background": "light"
     },
     "output_type": "display_data"
    }
   ],
   "source": [
    "plt.imshow(test_images[1], cmap='gray')\n",
    "plt.show()"
   ]
  },
  {
   "cell_type": "code",
   "execution_count": 53,
   "metadata": {},
   "outputs": [
    {
     "data": {
      "text/plain": [
       "(38, 120, 120)"
      ]
     },
     "execution_count": 53,
     "metadata": {},
     "output_type": "execute_result"
    }
   ],
   "source": [
    "train_images.shape"
   ]
  },
  {
   "cell_type": "code",
   "execution_count": 54,
   "metadata": {},
   "outputs": [
    {
     "data": {
      "text/plain": [
       "(34, 120, 120)"
      ]
     },
     "execution_count": 54,
     "metadata": {},
     "output_type": "execute_result"
    }
   ],
   "source": [
    "test_images.shape"
   ]
  },
  {
   "cell_type": "code",
   "execution_count": 55,
   "metadata": {},
   "outputs": [],
   "source": [
    "train_images_flatten = train_images.reshape(38,-1)\n",
    "test_images_flatten = test_images.reshape(34, -1)"
   ]
  },
  {
   "cell_type": "code",
   "execution_count": 56,
   "metadata": {},
   "outputs": [
    {
     "data": {
      "text/plain": [
       "(30, 14400)"
      ]
     },
     "execution_count": 56,
     "metadata": {},
     "output_type": "execute_result"
    }
   ],
   "source": [
    "train_images_flatten[:30].shape"
   ]
  },
  {
   "cell_type": "markdown",
   "metadata": {},
   "source": [
    "## ランダムフォレスト"
   ]
  },
  {
   "cell_type": "code",
   "execution_count": 57,
   "metadata": {},
   "outputs": [
    {
     "data": {
      "text/plain": [
       "0.5294117647058824"
      ]
     },
     "execution_count": 57,
     "metadata": {},
     "output_type": "execute_result"
    }
   ],
   "source": [
    "from sklearn.ensemble import RandomForestClassifier\n",
    "from sklearn.metrics import accuracy_score\n",
    "\n",
    "forest = RandomForestClassifier(criterion='gini', n_estimators=25, random_state=1, n_jobs=2) \n",
    "forest.fit(train_images_flatten, y)\n",
    "accuracy_score(forest.predict(test_images_flatten), test_y)"
   ]
  },
  {
   "cell_type": "markdown",
   "metadata": {},
   "source": [
    "## CNN"
   ]
  },
  {
   "cell_type": "code",
   "execution_count": 86,
   "metadata": {},
   "outputs": [],
   "source": [
    "X_train = train_images.reshape(38, 120, 120, 1)\n",
    "X_test = test_images.reshape(34, 120 ,120, 1)\n",
    "\n",
    "y_train = np_utils.to_categorical(y)\n",
    "y_test = np_utils.to_categorical(test_y)"
   ]
  },
  {
   "cell_type": "code",
   "execution_count": 88,
   "metadata": {},
   "outputs": [
    {
     "name": "stdout",
     "output_type": "stream",
     "text": [
      "Train on 38 samples, validate on 34 samples\n",
      "Epoch 1/100\n",
      "38/38 [==============================] - 2s 54ms/step - loss: 0.6663 - acc: 0.7105 - val_loss: 0.6918 - val_acc: 0.5882\n",
      "Epoch 2/100\n",
      "38/38 [==============================] - 0s 10ms/step - loss: 0.6639 - acc: 0.7105 - val_loss: 0.6925 - val_acc: 0.5882\n",
      "Epoch 3/100\n",
      "38/38 [==============================] - 0s 10ms/step - loss: 0.6545 - acc: 0.7105 - val_loss: 0.7288 - val_acc: 0.5882\n",
      "Epoch 00003: early stopping\n",
      "Test Loss:0.729\n",
      "Test accuracy:0.588\n",
      "time:3.289sec\n"
     ]
    }
   ],
   "source": [
    "'''\n",
    "CNNの構築\n",
    "'''\n",
    " \n",
    "model = Sequential()\n",
    " \n",
    "model.add(Conv2D(filters=10, kernel_size=(3,3), padding='same', input_shape=(120, 120, 1), activation='relu'))\n",
    "model.add(MaxPooling2D())\n",
    "model.add(Conv2D(filters=10, kernel_size=(3,3), padding='same', activation='relu'))\n",
    "model.add(Flatten())\n",
    "model.add(Dense(10, activation='relu'))\n",
    "model.add(Dense(2, activation='softmax'))\n",
    " \n",
    "model.compile(loss='categorical_crossentropy', optimizer=Adam(), metrics=['accuracy'])\n",
    " \n",
    "'''\n",
    "学習\n",
    "'''\n",
    "#計測開始\n",
    "startTime = time.time()\n",
    "\n",
    "# モデルの学習\n",
    "early_stopping = EarlyStopping(patience=2, verbose=1)\n",
    "\n",
    "history = model.fit(X_train, y_train, epochs=100, batch_size=10, verbose=1,callbacks=[early_stopping], validation_data=(X_test, y_test))\n",
    " \n",
    "score = model.evaluate(X_test, y_test, verbose=0)\n",
    " \n",
    "print('Test Loss:{0:.3f}'.format(score[0]))\n",
    "print('Test accuracy:{0:.3}'.format(score[1]))\n",
    "#処理時間\n",
    "print(\"time:{0:.3f}sec\".format(time.time() - startTime))"
   ]
  },
  {
   "cell_type": "markdown",
   "metadata": {},
   "source": [
    "# Kernel PCA"
   ]
  },
  {
   "cell_type": "code",
   "execution_count": 60,
   "metadata": {},
   "outputs": [
    {
     "data": {
      "text/plain": [
       "0.7058823529411765"
      ]
     },
     "execution_count": 60,
     "metadata": {},
     "output_type": "execute_result"
    }
   ],
   "source": [
    "deepinsight = DeepInsight.DeepInsight()\n",
    "kpca_train_images = deepinsight.fit(train_df3)\n",
    "kpca_test_images = deepinsight.predict(test_df3)\n",
    "\n",
    "kpca_train_images_flatten = kpca_train_images.reshape(38,-1)\n",
    "kpca_test_images_flatten = kpca_test_images.reshape(34, -1)\n",
    "\n",
    "from sklearn.ensemble import RandomForestClassifier\n",
    "from sklearn.metrics import accuracy_score\n",
    "\n",
    "forest = RandomForestClassifier(criterion='gini', n_estimators=25, random_state=1, n_jobs=2) \n",
    "forest.fit(kpca_train_images_flatten, y)\n",
    "accuracy_score(forest.predict(kpca_test_images_flatten), test_y)"
   ]
  },
  {
   "cell_type": "code",
   "execution_count": 89,
   "metadata": {},
   "outputs": [],
   "source": [
    "#kerasでCNN構築\n",
    "import time\n",
    "from keras.utils import np_utils\n",
    "from keras.models import Sequential\n",
    "from keras.layers import Conv2D, MaxPooling2D\n",
    "from keras.layers import Activation, Dropout, Flatten, Dense\n",
    "from keras.callbacks import EarlyStopping\n",
    "from keras.optimizers import Adam\n",
    "\n",
    "X_train = kpca_train_images.reshape(38, 120, 120, 1)\n",
    "X_test = kpca_test_images.reshape(34, 120 ,120, 1)\n",
    "\n",
    "y_train = np_utils.to_categorical(y)\n",
    "y_test = np_utils.to_categorical(test_y)"
   ]
  },
  {
   "cell_type": "code",
   "execution_count": 93,
   "metadata": {},
   "outputs": [
    {
     "name": "stdout",
     "output_type": "stream",
     "text": [
      "Train on 38 samples, validate on 34 samples\n",
      "Epoch 1/100\n",
      " - 2s - loss: 0.6473 - acc: 0.7105 - val_loss: 0.7165 - val_acc: 0.5882\n",
      "Epoch 2/100\n",
      " - 0s - loss: 0.6004 - acc: 0.7105 - val_loss: 0.6889 - val_acc: 0.5882\n",
      "Epoch 3/100\n",
      " - 0s - loss: 0.5864 - acc: 0.7105 - val_loss: 0.6487 - val_acc: 0.5882\n",
      "Epoch 4/100\n",
      " - 0s - loss: 0.5461 - acc: 0.7105 - val_loss: 0.6428 - val_acc: 0.5882\n",
      "Epoch 5/100\n",
      " - 0s - loss: 0.5103 - acc: 0.7105 - val_loss: 0.6173 - val_acc: 0.5882\n",
      "Epoch 6/100\n",
      " - 0s - loss: 0.4840 - acc: 0.7368 - val_loss: 0.5661 - val_acc: 0.5882\n",
      "Epoch 7/100\n",
      " - 0s - loss: 0.4245 - acc: 0.7368 - val_loss: 0.5844 - val_acc: 0.5882\n",
      "Epoch 8/100\n",
      " - 0s - loss: 0.4073 - acc: 0.7105 - val_loss: 0.5005 - val_acc: 0.5882\n",
      "Epoch 9/100\n",
      " - 0s - loss: 0.3940 - acc: 0.7105 - val_loss: 0.4790 - val_acc: 0.5882\n",
      "Epoch 10/100\n",
      " - 0s - loss: 0.3612 - acc: 0.7105 - val_loss: 0.5033 - val_acc: 0.5882\n",
      "Epoch 11/100\n",
      " - 0s - loss: 0.3299 - acc: 0.7895 - val_loss: 0.4468 - val_acc: 0.7647\n",
      "Epoch 12/100\n",
      " - 0s - loss: 0.3036 - acc: 0.8684 - val_loss: 0.4313 - val_acc: 0.7647\n",
      "Epoch 13/100\n",
      " - 0s - loss: 0.2979 - acc: 0.8421 - val_loss: 0.4166 - val_acc: 0.8529\n",
      "Epoch 14/100\n",
      " - 0s - loss: 0.2798 - acc: 0.9474 - val_loss: 0.4122 - val_acc: 0.9118\n",
      "Epoch 15/100\n",
      " - 0s - loss: 0.2731 - acc: 0.9211 - val_loss: 0.4220 - val_acc: 0.7059\n",
      "Epoch 16/100\n",
      " - 0s - loss: 0.2567 - acc: 0.8421 - val_loss: 0.3846 - val_acc: 0.8529\n",
      "Epoch 17/100\n",
      " - 0s - loss: 0.2688 - acc: 0.9737 - val_loss: 0.4276 - val_acc: 0.9706\n",
      "Epoch 18/100\n",
      " - 0s - loss: 0.2612 - acc: 1.0000 - val_loss: 0.3819 - val_acc: 0.7647\n",
      "Epoch 19/100\n",
      " - 0s - loss: 0.2417 - acc: 0.8421 - val_loss: 0.4256 - val_acc: 0.7353\n",
      "Epoch 20/100\n",
      " - 0s - loss: 0.2323 - acc: 0.8947 - val_loss: 0.3843 - val_acc: 0.9706\n",
      "Epoch 00020: early stopping\n",
      "Test Loss:0.384\n",
      "Test accuracy:0.971\n",
      "time:10.400sec\n"
     ]
    }
   ],
   "source": [
    "'''\n",
    "CNNの構築\n",
    "'''\n",
    " \n",
    "model = Sequential()\n",
    " \n",
    "model.add(Conv2D(filters=10, kernel_size=(3,3), padding='same', input_shape=(120, 120, 1), activation='relu'))\n",
    "model.add(MaxPooling2D())\n",
    "model.add(Conv2D(filters=10, kernel_size=(3,3), padding='same', activation='relu'))\n",
    "model.add(Flatten())\n",
    "model.add(Dense(10, activation='relu'))\n",
    "model.add(Dense(2, activation='softmax'))\n",
    " \n",
    "model.compile(loss='categorical_crossentropy', optimizer=Adam(), metrics=['accuracy'])\n",
    " \n",
    "'''\n",
    "学習\n",
    "'''\n",
    "#計測開始\n",
    "startTime = time.time()\n",
    "\n",
    "early_stopping = EarlyStopping(patience=2, verbose=1)\n",
    "\n",
    "history = model.fit(X_train, y_train, epochs=100, batch_size=10, verbose=2, callbacks=[early_stopping], validation_data=(X_test, y_test))\n",
    " \n",
    "score = model.evaluate(X_test, y_test, verbose=0)\n",
    " \n",
    "print('Test Loss:{0:.3f}'.format(score[0]))\n",
    "print('Test accuracy:{0:.3}'.format(score[1]))\n",
    "#処理時間\n",
    "print(\"time:{0:.3f}sec\".format(time.time() - startTime))"
   ]
  },
  {
   "cell_type": "code",
   "execution_count": 95,
   "metadata": {},
   "outputs": [
    {
     "data": {
      "image/png": "[encoded data removed]",
      "text/plain": [
       "<Figure size 432x288 with 1 Axes>"
      ]
     },
     "metadata": {
      "needs_background": "light"
     },
     "output_type": "display_data"
    }
   ],
   "source": [
    "plt.scatter(deepinsight.result_points[:,0], deepinsight.result_points[:,1])\n",
    "plt.show()"
   ]
  },
  {
   "cell_type": "code",
   "execution_count": null,
   "metadata": {},
   "outputs": [],
   "source": []
  }
 ],
 "metadata": {
  "kernelspec": {
   "display_name": "Python 3",
   "language": "python",
   "name": "python3"
  },
  "language_info": {
   "codemirror_mode": {
    "name": "ipython",
    "version": 3
   },
   "file_extension": ".py",
   "mimetype": "text/x-python",
   "name": "python",
   "nbconvert_exporter": "python",
   "pygments_lexer": "ipython3",
   "version": "3.6.9"
  }
 },
 "nbformat": 4,
 "nbformat_minor": 2
}
