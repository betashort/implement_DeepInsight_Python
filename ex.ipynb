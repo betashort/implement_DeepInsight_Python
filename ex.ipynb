{
 "cells": [
  {
   "cell_type": "code",
   "execution_count": 1,
   "metadata": {},
   "outputs": [],
   "source": [
    "#!/usr/bin/env python3\n",
    "# -*- coding: utf-8 -*-\n",
    "\"\"\"\n",
    "Created on Sun Sep  1 01:37:52 2019\n",
    "\n",
    "@author: betashort\n",
    "\"\"\"\n",
    "\n",
    "\"\"\"\n",
    "import Library\n",
    "\"\"\"\n",
    "import os\n",
    "import sys\n",
    "import math\n",
    "import numpy as np\n",
    "import pandas as pd\n",
    "import matplotlib.pyplot as plt\n",
    "import matplotlib.patches as patches\n",
    "\n",
    "from scipy.spatial import ConvexHull, convex_hull_plot_2d\n",
    "from PIL import Image\n",
    "from sklearn.preprocessing import StandardScaler, MinMaxScaler\n",
    "\n",
    "from sklearn.decomposition import PCA\n",
    "from sklearn.decomposition import KernelPCA\n",
    "from sklearn.manifold import TSNE\n",
    "\n",
    "import warnings\n",
    "warnings.filterwarnings('ignore')\n",
    "\n",
    "\n",
    "\n",
    "class DeepInsight(object):\n",
    "    \"\"\"\n",
    "\n",
    "    \"\"\"\n",
    "    def __init__(self):\n",
    "        self.result_points = None\n",
    "        self.result_rectan = None\n",
    "\n",
    "    \"\"\"\n",
    "    Obtain DeepInsight's Images for Train\n",
    "    \"\"\"\n",
    "\n",
    "    def fit(self, df, method='kpca'):\n",
    "        '''\n",
    "\n",
    "        :param df:data\n",
    "        :param method:decomp method defalt is 'Kernel PCA'\n",
    "        :param points is decomp result\n",
    "        :return:\n",
    "        '''\n",
    "\n",
    "        '''\n",
    "        decomp_method\n",
    "        '''\n",
    "        sd = StandardScaler()\n",
    "        sd.fit(df.T)\n",
    "        train_sd = sd.transform(df.T)\n",
    "\n",
    "        if method == 'kpca':\n",
    "            kpca = KernelPCA(n_components=2, kernel='rbf')\n",
    "            points = kpca.fit_transform(train_sd)\n",
    "\n",
    "        elif method == 'tsne':\n",
    "            tsne = TSNE(n_components=2, metric='cosine')\n",
    "            points = tsne.fit_transform(train_sd)\n",
    "\n",
    "\n",
    "        #Calculate Convex-Hull\n",
    "        #output is corner points of 'Minimum Bounding Rectangle Box'\n",
    "\n",
    "        corner_points = self.__MBRB(points)\n",
    "\n",
    "\n",
    "        #Transform points\n",
    "        self.result_points, self.result_rectan = self.__Transform_coor(points, corner_points)\n",
    "\n",
    "\n",
    "    def fit_transform(self, df, method='kpca'):\n",
    "        '''\n",
    "\n",
    "        :param df:data\n",
    "        :param method:decomp method defalt is 'Kernel PCA'\n",
    "        :param points is decomp result\n",
    "        :return:\n",
    "        '''\n",
    "\n",
    "        '''\n",
    "        decomp_method\n",
    "        '''\n",
    "        sd = StandardScaler()\n",
    "        sd.fit(df.T)\n",
    "        train_sd = sd.transform(df.T)\n",
    "\n",
    "        if method == 'kpca':\n",
    "            kpca = KernelPCA(n_components=2, kernel='rbf')\n",
    "            points = kpca.fit_transform(train_sd)\n",
    "\n",
    "        elif method == 'tsne':\n",
    "            tsne = TSNE(n_components=2, metric='cosine')\n",
    "            points = tsne.fit_transform(train_sd)\n",
    "\n",
    "\n",
    "        #Calculate Convex-Hull\n",
    "        #output is corner points of 'Minimum Bounding Rectangle Box'\n",
    "\n",
    "        corner_points = self.__MBRB(points)\n",
    "\n",
    "\n",
    "        #Transform points\n",
    "        self.result_points, self.result_rectan = self.__Transform_coor(points, corner_points)\n",
    "\n",
    "\n",
    "        #Create Image\n",
    "\n",
    "        images = self.__create_image(df)\n",
    "\n",
    "        return images\n",
    "\n",
    "    \"\"\"\n",
    "    Obtain DeepInsight's Images \n",
    "    \"\"\"\n",
    "    def transform(self, df):\n",
    "\n",
    "        images = self.__create_image(df)\n",
    "\n",
    "        return images\n",
    "\n",
    "\n",
    "\n",
    "    \"\"\"\n",
    "    -----------------\n",
    "    can't access\n",
    "    -----------------\n",
    "    \"\"\"\n",
    "\n",
    "    \"\"\"\n",
    "    Use Convex Hull\n",
    "    Calculate corner points of Minimum Bounding Rectangle Box with Rotation\n",
    "    \"\"\"\n",
    "\n",
    "    def __MBRB(self, points):\n",
    "        hull = ConvexHull(points)\n",
    "\n",
    "        points = hull.points\n",
    "        hull_points = points[hull.vertices]\n",
    "\n",
    "        # calculate edge angle arctan2(y/x)\n",
    "        edge_angles = np.zeros(len(hull_points) - 1)\n",
    "\n",
    "        for i in range(len(edge_angles)):\n",
    "            edge_x = hull_points[i + 1, 0] - hull_points[i, 0]\n",
    "            edge_y = hull_points[i + 1, 1] - hull_points[i, 1]\n",
    "            edge_angles[i] = abs(math.atan2(edge_y, edge_x) % (math.pi / 2))\n",
    "\n",
    "        edge_angles = np.unique(edge_angles)\n",
    "\n",
    "        '''\n",
    "        # search minimum bounding rectangle\n",
    "        # min_bbox = (rot_angle, area, width, height, min_x, max_x, min_y, max_y)\n",
    "        '''\n",
    "        min_bbox = (0, sys.maxsize, 0, 0, 0, 0, 0)\n",
    "\n",
    "        for i in range(len(edge_angles)):\n",
    "            # create Rotation matrix\n",
    "            R = np.array([[math.cos(edge_angles[i]), math.cos(edge_angles[i] - (math.pi / 2))],\n",
    "                          [math.cos(edge_angles[i] + (math.pi / 2)), math.cos(edge_angles[i])]])\n",
    "\n",
    "            rot_points = np.dot(R, hull_points.T)\n",
    "\n",
    "            # min max\n",
    "            min_x = np.nanmin(rot_points[0], axis=0)\n",
    "            max_x = np.nanmax(rot_points[0], axis=0)\n",
    "            min_y = np.nanmin(rot_points[1], axis=0)\n",
    "            max_y = np.nanmax(rot_points[1], axis=0)\n",
    "\n",
    "            # width height\n",
    "            width = max_x - min_x\n",
    "            height = max_y - min_y\n",
    "\n",
    "            area = width * height\n",
    "\n",
    "            # store the smallest\n",
    "            if (area < min_bbox[1]):\n",
    "                min_bbox = (edge_angles[i], area, width, height, min_x, max_x, min_y, max_y)\n",
    "\n",
    "        angle = min_bbox[0]\n",
    "\n",
    "        R = np.array([[math.cos(angle), math.cos(angle - (math.pi / 2))],\n",
    "                      [math.cos(angle + (math.pi / 2)), math.cos(angle)]])\n",
    "\n",
    "        proj_points = np.dot(R, hull_points.T)\n",
    "\n",
    "        min_x = min_bbox[4]\n",
    "        max_x = min_bbox[5]\n",
    "        min_y = min_bbox[6]\n",
    "        max_y = min_bbox[7]\n",
    "\n",
    "        center_x = (min_x + max_x) / 2\n",
    "        center_y = (min_y + max_y) / 2\n",
    "        center_point = np.dot([center_x, center_y], R)\n",
    "\n",
    "        corner_points = np.zeros((4, 2))\n",
    "        corner_points[0] = np.dot([max_x, min_y], R)\n",
    "        corner_points[1] = np.dot([min_x, min_y], R)\n",
    "        corner_points[2] = np.dot([min_x, max_y], R)\n",
    "        corner_points[3] = np.dot([max_x, max_y], R)\n",
    "\n",
    "        return corner_points\n",
    "\n",
    "    \"\"\"\n",
    "    Transform Coordinate for Cartecian\n",
    "    \"\"\"\n",
    "\n",
    "    def __Transform_coor(self, points, corner_points):\n",
    "        rectan = np.vstack((corner_points, corner_points[0]))\n",
    "        Gr = (corner_points[1, 1] - corner_points[2, 1]) / (corner_points[1, 0] - corner_points[2, 0])\n",
    "\n",
    "        theta = math.atan(Gr)\n",
    "\n",
    "        R_coor = np.array([[math.cos(theta), math.sin(theta)],\n",
    "                           [-math.sin(theta), math.cos(theta)]])\n",
    "\n",
    "        result_points = np.dot(R_coor, (points).T).T\n",
    "        result_rectan = np.dot(R_coor, rectan.T).T\n",
    "\n",
    "        return result_points, result_rectan\n",
    "\n",
    "    \"\"\"\n",
    "    Create_Images\n",
    "    \"\"\"\n",
    "\n",
    "    def __create_image(self, df):\n",
    "        result_points = self.result_points\n",
    "        result_rectan = self.result_rectan\n",
    "\n",
    "        images = []\n",
    "\n",
    "        rr_p = abs(((result_points - result_rectan[3]) * 100).astype(int))\n",
    "        #rr_cp = abs(((result_rectan - result_rectan[3]) * 100).astype(int))\n",
    "\n",
    "        for n in range(df.shape[0]):\n",
    "            deepinsight = np.zeros((rr_p[:, 0].max() + 1, rr_p[:, 1].max() + 1))\n",
    "            count_table = np.ones((rr_p[:, 0].max() + 1, rr_p[:, 1].max() + 1))\n",
    "\n",
    "            for i, position in enumerate(rr_p):\n",
    "                px = position[0]\n",
    "                py = position[1]\n",
    "\n",
    "                if deepinsight[px, py] != 0:\n",
    "                    count_table[px, py] += 1\n",
    "\n",
    "                deepinsight[px, py] += df.iloc[n, i]\n",
    "\n",
    "            #averaging\n",
    "            deepinsight = deepinsight / count_table\n",
    "\n",
    "            #Fill 0 with 1\n",
    "            deepinsight = np.where(deepinsight == 0, 1, deepinsight)\n",
    "\n",
    "            '''\n",
    "            Norm\n",
    "            '''\n",
    "\n",
    "            max_v = deepinsight.max()\n",
    "            min_v = deepinsight.min()\n",
    "            deepinsight = (deepinsight - min_v) / (max_v - min_v)\n",
    "\n",
    "            '''\n",
    "            Resize(120×120)\n",
    "            '''\n",
    "            i = Image.fromarray(deepinsight)\n",
    "            deepinsight = np.asarray(i.resize((120, 120)))\n",
    "\n",
    "            images.append(deepinsight.T)\n",
    "\n",
    "        images = np.array(images)\n",
    "\n",
    "        return images\n",
    "\n"
   ]
  },
  {
   "cell_type": "code",
   "execution_count": 2,
   "metadata": {},
   "outputs": [],
   "source": [
    "path = \"/Volumes/Buffalo-SSD/Kaggle_Datasets/gene-expression/\""
   ]
  },
  {
   "cell_type": "code",
   "execution_count": 3,
   "metadata": {},
   "outputs": [
    {
     "data": {
      "text/plain": [
       "['._actual.csv',\n",
       " 'actual.csv',\n",
       " 'data_set_ALL_AML_independent.csv',\n",
       " '._data_set_ALL_AML_independent.csv',\n",
       " 'data_set_ALL_AML_train.csv',\n",
       " '._data_set_ALL_AML_train.csv']"
      ]
     },
     "execution_count": 3,
     "metadata": {},
     "output_type": "execute_result"
    }
   ],
   "source": [
    "os.listdir(path)"
   ]
  },
  {
   "cell_type": "code",
   "execution_count": 4,
   "metadata": {},
   "outputs": [],
   "source": [
    "train = pd.read_csv(path+'data_set_ALL_AML_train.csv')\n",
    "test = pd.read_csv(path+'data_set_ALL_AML_independent.csv')\n",
    "actual = pd.read_csv(path+'actual.csv')"
   ]
  },
  {
   "cell_type": "code",
   "execution_count": 5,
   "metadata": {},
   "outputs": [],
   "source": [
    "def process1(df, actural, target):\n",
    "    df1 = [col for col in df.columns if \"call\" not in col]\n",
    "    df = df[df1]\n",
    "    df = df.T\n",
    "    df2 = df.drop(['Gene Description','Gene Accession Number'],axis=0)\n",
    "    df2.index = pd.to_numeric(df2.index)\n",
    "    df2.sort_index(inplace=True)\n",
    "    if target == 'train':\n",
    "        df2['cat'] = list(actual[:38]['cancer'])\n",
    "    elif target == 'test':\n",
    "        df2['cat'] = list(actual[38:]['cancer'])\n",
    "    dic = {'ALL':0,'AML':1}\n",
    "    df2.replace(dic,inplace=True)\n",
    "    return df, df2"
   ]
  },
  {
   "cell_type": "code",
   "execution_count": 6,
   "metadata": {},
   "outputs": [
    {
     "name": "stdout",
     "output_type": "stream",
     "text": [
      "CPU times: user 3 µs, sys: 1 µs, total: 4 µs\n",
      "Wall time: 8.11 µs\n"
     ]
    }
   ],
   "source": [
    "%time\n",
    "train_df, train_df2 = process1(train, actual, 'train')\n",
    "test_df, test_df2 = process1(test, actual, 'test')"
   ]
  },
  {
   "cell_type": "code",
   "execution_count": 7,
   "metadata": {},
   "outputs": [],
   "source": [
    "y = train_df2['cat'].values\n",
    "test_y = test_df2['cat'].values\n",
    "\n",
    "train_df3 = train_df2.drop('cat', axis=1)\n",
    "test_df3 = test_df2.drop('cat', axis=1)\n",
    "\n",
    "sd = StandardScaler()\n",
    "sd.fit(train_df3.T)\n",
    "train_sd = sd.transform(train_df3.T)"
   ]
  },
  {
   "cell_type": "code",
   "execution_count": 8,
   "metadata": {},
   "outputs": [],
   "source": [
    "deepinsight = DeepInsight()"
   ]
  },
  {
   "cell_type": "code",
   "execution_count": 9,
   "metadata": {},
   "outputs": [
    {
     "name": "stdout",
     "output_type": "stream",
     "text": [
      "CPU times: user 5.87 s, sys: 292 ms, total: 6.16 s\n",
      "Wall time: 4.71 s\n"
     ]
    }
   ],
   "source": [
    "%%time\n",
    "train_images = deepinsight.fit_transform(train_df3)"
   ]
  },
  {
   "cell_type": "code",
   "execution_count": 38,
   "metadata": {},
   "outputs": [
    {
     "data": {
      "text/plain": [
       "(38, 120, 120)"
      ]
     },
     "execution_count": 38,
     "metadata": {},
     "output_type": "execute_result"
    }
   ],
   "source": [
    "train_images.shape"
   ]
  },
  {
   "cell_type": "code",
   "execution_count": 39,
   "metadata": {},
   "outputs": [
    {
     "data": {
      "text/plain": [
       "<matplotlib.image.AxesImage at 0x122e82320>"
      ]
     },
     "execution_count": 39,
     "metadata": {},
     "output_type": "execute_result"
    },
    {
     "data": {
      "image/png": "[encoded data removed]",
      "text/plain": [
       "<Figure size 432x288 with 1 Axes>"
      ]
     },
     "metadata": {
      "needs_background": "light"
     },
     "output_type": "display_data"
    }
   ],
   "source": [
    "plt.imshow(train_images[0], cmap='gray')"
   ]
  },
  {
   "cell_type": "code",
   "execution_count": null,
   "metadata": {},
   "outputs": [],
   "source": []
  }
 ],
 "metadata": {
  "kernelspec": {
   "display_name": "Python 3",
   "language": "python",
   "name": "python3"
  },
  "language_info": {
   "codemirror_mode": {
    "name": "ipython",
    "version": 3
   },
   "file_extension": ".py",
   "mimetype": "text/x-python",
   "name": "python",
   "nbconvert_exporter": "python",
   "pygments_lexer": "ipython3",
   "version": "3.6.9"
  }
 },
 "nbformat": 4,
 "nbformat_minor": 2
}
